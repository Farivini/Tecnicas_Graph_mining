{
  "nbformat": 4,
  "nbformat_minor": 0,
  "metadata": {
    "colab": {
      "name": "ATP_VINICIUS_GRAPH.ipynb",
      "private_outputs": true,
      "provenance": [],
      "collapsed_sections": []
    },
    "kernelspec": {
      "name": "python3",
      "display_name": "Python 3"
    },
    "language_info": {
      "name": "python"
    }
  },
  "cells": [
    {
      "cell_type": "markdown",
      "source": [
        "# Analises de Grafos "
      ],
      "metadata": {
        "id": "rSHcEsHSBELP"
      }
    },
    {
      "cell_type": "code",
      "execution_count": null,
      "metadata": {
        "id": "MRuiAcP1WaHk"
      },
      "outputs": [],
      "source": [
        "import networkx as nx\n",
        "import pandas as pd\n",
        "\n",
        "temp1 = pd.read_csv('/content/got-s1-edges_semanas7_8 (1).csv')\n",
        "temp2 = pd.read_csv('/content/got-s8-edges_semanas7_8 (1).csv')"
      ]
    },
    {
      "cell_type": "code",
      "source": [
        "temp1.head()"
      ],
      "metadata": {
        "id": "qFkk3ulPXPXW"
      },
      "execution_count": null,
      "outputs": []
    },
    {
      "cell_type": "code",
      "source": [
        "temp2.head()"
      ],
      "metadata": {
        "id": "mm7vcU-RXU4s"
      },
      "execution_count": null,
      "outputs": []
    },
    {
      "cell_type": "code",
      "source": [
        "graph_1 = nx.from_pandas_edgelist(temp1, source='Source',target=\"Target\",edge_attr='Weight')\n",
        "graph_2 = nx.from_pandas_edgelist(temp2, source='Source',target=\"Target\",edge_attr='Weight')\n"
      ],
      "metadata": {
        "id": "U0C6DY6hXZAO"
      },
      "execution_count": null,
      "outputs": []
    },
    {
      "cell_type": "markdown",
      "source": [
        "### Visualizando quantidade de vertices e arestas entre as duas temporadas"
      ],
      "metadata": {
        "id": "sDVehhJFY4w0"
      }
    },
    {
      "cell_type": "code",
      "source": [
        "graph_1.order()"
      ],
      "metadata": {
        "id": "U9r_4B0xYp3e"
      },
      "execution_count": null,
      "outputs": []
    },
    {
      "cell_type": "code",
      "source": [
        "graph_2.order()"
      ],
      "metadata": {
        "id": "AGOf00OPYtuX"
      },
      "execution_count": null,
      "outputs": []
    },
    {
      "cell_type": "code",
      "source": [
        "graph_1.size()"
      ],
      "metadata": {
        "id": "DEWmB6IxZiIc"
      },
      "execution_count": null,
      "outputs": []
    },
    {
      "cell_type": "code",
      "source": [
        "graph_2.size()"
      ],
      "metadata": {
        "id": "AJk4m_qfZn0G"
      },
      "execution_count": null,
      "outputs": []
    },
    {
      "cell_type": "markdown",
      "source": [
        "## Visualizando a cara dos dois Grafos"
      ],
      "metadata": {
        "id": "RNoz-i6tbdeW"
      }
    },
    {
      "cell_type": "code",
      "source": [
        "import matplotlib.pyplot as plt\n",
        "plt.figure(figsize=(13,13))\n",
        "\n",
        "pos1 = nx.spring_layout(graph_1)\n",
        "pos2 = nx.spring_layout(graph_2)\n",
        "\n",
        "nx.draw_networkx(graph_1,pos1,with_labels=False,node_size=180,node_color=\"red\")"
      ],
      "metadata": {
        "id": "k9ZkBA_sZywg"
      },
      "execution_count": null,
      "outputs": []
    },
    {
      "cell_type": "code",
      "source": [
        "plt.figure(figsize=(13,13))\n",
        "\n",
        "nx.draw_networkx(graph_2,pos2,with_labels=False,node_size=180,node_color=\"green\")"
      ],
      "metadata": {
        "id": "ymrnKErca97A"
      },
      "execution_count": null,
      "outputs": []
    },
    {
      "cell_type": "code",
      "source": [
        "!pip install cdlib"
      ],
      "metadata": {
        "id": "6AylCYQJhcL9"
      },
      "execution_count": null,
      "outputs": []
    },
    {
      "cell_type": "markdown",
      "source": [
        "### Comparando 3 algoritimos de detecção de comunidades da primeira temporada\n",
        "\n",
        "\n",
        "\n",
        "*   Girvan\n",
        "*   Greedy\n",
        "*   Louvain\n",
        "\n",
        "\n"
      ],
      "metadata": {
        "id": "lDnbnmi-tz3Z"
      }
    },
    {
      "cell_type": "code",
      "source": [
        "from cdlib import algorithms, viz\n",
        "dect_comu_1 = algorithms.girvan_newman(graph_1, level=3)\n",
        "viz.plot_network_clusters(graph_1, dect_comu_1 ,pos1, figsize=(13,13) )"
      ],
      "metadata": {
        "id": "3EliMrwSblOk"
      },
      "execution_count": null,
      "outputs": []
    },
    {
      "cell_type": "code",
      "source": [
        "dect_comu_1 = algorithms.louvain(graph_1)\n",
        "viz.plot_network_clusters(graph_1, dect_comu_1 ,pos1, figsize=(13,13) )"
      ],
      "metadata": {
        "id": "chwgKc44sRmf"
      },
      "execution_count": null,
      "outputs": []
    },
    {
      "cell_type": "code",
      "source": [
        "dect_comu_m1 = algorithms.greedy_modularity(graph_1)\n",
        "viz.plot_network_clusters(graph_1, dect_comu_m1 ,pos1, figsize=(13,13) )"
      ],
      "metadata": {
        "id": "eZqm2A6CtSxT"
      },
      "execution_count": null,
      "outputs": []
    },
    {
      "cell_type": "markdown",
      "source": [
        "##### É visivel a leitura entre os 3 e suas granularidades"
      ],
      "metadata": {
        "id": "pkdDCOOEt7lH"
      }
    },
    {
      "cell_type": "code",
      "source": [
        "viz.plot_community_graph(graph_1,dect_comu_1,figsize=(13,13))"
      ],
      "metadata": {
        "id": "viTLpQOPsnON"
      },
      "execution_count": null,
      "outputs": []
    },
    {
      "cell_type": "markdown",
      "source": [
        "### Grafo 2 da temporada 8 , consiste em um grafo muito mais centralizado e com pontos que nao se conectam"
      ],
      "metadata": {
        "id": "M6uJ9rtLfRM8"
      }
    },
    {
      "cell_type": "code",
      "source": [
        "from cdlib import algorithms, viz\n",
        "dect_comu_2 = algorithms.greedy_modularity(graph_2)\n",
        "viz.plot_network_clusters(graph_2, dect_comu_2 ,pos2, figsize=(13,13) )"
      ],
      "metadata": {
        "id": "6w0FIhhXutyX"
      },
      "execution_count": null,
      "outputs": []
    },
    {
      "cell_type": "code",
      "source": [
        "dect_comu_l2 = algorithms.louvain(graph_2)\n",
        "viz.plot_network_clusters(graph_2, dect_comu_l2 ,pos2, figsize=(13,13) )"
      ],
      "metadata": {
        "id": "qCbcfwX5vOI0"
      },
      "execution_count": null,
      "outputs": []
    },
    {
      "cell_type": "code",
      "source": [
        "list(graph_1.edges())\n"
      ],
      "metadata": {
        "id": "sus0DyT67kli"
      },
      "execution_count": null,
      "outputs": []
    },
    {
      "cell_type": "code",
      "source": [
        "list(graph_2.edges())"
      ],
      "metadata": {
        "id": "4rFKXMKIWNyk"
      },
      "execution_count": null,
      "outputs": []
    },
    {
      "cell_type": "markdown",
      "source": [
        "#### Pegamos os degree de cada Nome , convertemos em dict e passamos para um data frame"
      ],
      "metadata": {
        "id": "u_A1WsmaSkmT"
      }
    },
    {
      "cell_type": "code",
      "source": [
        "degrau_2 = graph_2.degree()\n",
        "d_graph_2 = dict(degrau_2)\n",
        "df_graph_2 = pd.DataFrame(list(d_graph_2.items()),columns=['Nome','Degree'])\n",
        "df_graph_2.sort_values('Degree',ascending=False)"
      ],
      "metadata": {
        "id": "kHqXNaS-WWGm"
      },
      "execution_count": null,
      "outputs": []
    },
    {
      "cell_type": "code",
      "source": [
        "import plotly.express as px\n",
        "\n",
        "fig = px.histogram(df_graph_2, x=\"Nome\", y='Degree')\n",
        "fig.show()"
      ],
      "metadata": {
        "id": "b2B7cNiyXOX_"
      },
      "execution_count": null,
      "outputs": []
    },
    {
      "cell_type": "code",
      "source": [
        "degrau = graph_1.degree()\n",
        "d_graph_1 = dict(degrau)\n",
        "df_graph = pd.DataFrame(list(d_graph_1.items()), columns = ['Nome','Degree'])\n",
        "df_graph.sort_values('Degree',ascending=False)\n"
      ],
      "metadata": {
        "id": "FiEat044Q1Px"
      },
      "execution_count": null,
      "outputs": []
    },
    {
      "cell_type": "code",
      "source": [
        "import plotly.express as px\n",
        "\n",
        "fig = px.histogram(df_graph, x=\"Nome\", y='Degree')\n",
        "fig.show()\n"
      ],
      "metadata": {
        "id": "8JAWLqUsS4W0"
      },
      "execution_count": null,
      "outputs": []
    },
    {
      "cell_type": "markdown",
      "source": [
        "### Com Poucas linhas de codigo verificamos a diferença entre uma temporada e outra no top 3 "
      ],
      "metadata": {
        "id": "Hf140RSee12y"
      }
    },
    {
      "cell_type": "markdown",
      "source": [
        "## Verificando o maior grau de centralidade"
      ],
      "metadata": {
        "id": "MIsSYV8q_DIM"
      }
    },
    {
      "cell_type": "code",
      "source": [
        "grau = nx.degree_centrality(graph_1)\n",
        "print(f'{max(grau)} : {max(grau.values())}')\n"
      ],
      "metadata": {
        "id": "RZtAD-RD9Ahf"
      },
      "execution_count": null,
      "outputs": []
    },
    {
      "cell_type": "code",
      "source": [
        "grau_intermed = nx.betweenness_centrality(graph_1)\n",
        "print(f'{max(grau_intermed)} : {max(grau_intermed.values())}')"
      ],
      "metadata": {
        "id": "LOvV_hn6_Ye6"
      },
      "execution_count": null,
      "outputs": []
    },
    {
      "cell_type": "code",
      "source": [
        "grau_proxima = nx.closeness_centrality(graph_1)\n",
        "print(f'{max(grau_proxima)} : {max(grau_proxima.values())}')"
      ],
      "metadata": {
        "id": "oyxG-Vzw_ssL"
      },
      "execution_count": null,
      "outputs": []
    },
    {
      "cell_type": "markdown",
      "source": [
        "### Verificando o Grafo 2"
      ],
      "metadata": {
        "id": "0DpGZkFif60h"
      }
    },
    {
      "cell_type": "code",
      "source": [
        "grau_proxima_2 = nx.closeness_centrality(graph_2)\n",
        "print(f'{max(grau_proxima_2)} : {max(grau_proxima_2.values())}')"
      ],
      "metadata": {
        "id": "WB--EljagAsm"
      },
      "execution_count": null,
      "outputs": []
    },
    {
      "cell_type": "code",
      "source": [
        "grau_intermed_2 = nx.betweenness_centrality(graph_2)\n",
        "print(f'{max(grau_intermed_2)} : {max(grau_intermed_2.values())}')"
      ],
      "metadata": {
        "id": "-PXP2nRBhb8C"
      },
      "execution_count": null,
      "outputs": []
    },
    {
      "cell_type": "code",
      "source": [
        "grau_2 = nx.degree_centrality(graph_2)\n",
        "print(f'{max(grau_2)} : {max(grau_2.values())}')\n"
      ],
      "metadata": {
        "id": "Qgp3suvIgBEj"
      },
      "execution_count": null,
      "outputs": []
    },
    {
      "cell_type": "markdown",
      "source": [
        "### Plotando Grafo por função de centralidade"
      ],
      "metadata": {
        "id": "4FPY1jRbfwy-"
      }
    },
    {
      "cell_type": "code",
      "source": [
        "proxima = nx.closeness_centrality(graph_1)\n",
        "proxima = list(proxima.values())\n",
        "centralid = nx.spring_layout(graph_1,seed=33)\n",
        "plt.figure(figsize=(15,15))\n",
        "nx.draw_networkx(graph_1,centralid,with_labels =True, node_size=80,node_color=proxima,edge_color='Gray',width=0.2,font_color='black')"
      ],
      "metadata": {
        "id": "ag-Xt9MeABo1"
      },
      "execution_count": null,
      "outputs": []
    },
    {
      "cell_type": "code",
      "source": [
        "intermed = nx.betweenness_centrality(graph_1)\n",
        "intermed = list(intermed.values())\n",
        "centralid = nx.spring_layout(graph_1,seed=10000)\n",
        "plt.figure(figsize=(15,15))\n",
        "nx.draw_networkx(graph_1,centralid,with_labels =True, node_size=80,node_color=intermed,edge_color='Gray',width=0.2,font_color='black')"
      ],
      "metadata": {
        "id": "8V8YTuiWvyj-"
      },
      "execution_count": null,
      "outputs": []
    }
  ]
}